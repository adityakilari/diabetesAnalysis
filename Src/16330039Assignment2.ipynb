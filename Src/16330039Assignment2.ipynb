{
 "cells": [
  {
   "cell_type": "code",
   "execution_count": 92,
   "metadata": {},
   "outputs": [],
   "source": [
    "#import all the required libraries\n",
    "\n",
    "import seaborn as sn\n",
    "import pandas as pd\n",
    "import numpy as np\n",
    "import random as rd\n",
    "import statistics as st\n",
    "import matplotlib.pyplot as plt\n",
    "import sklearn as sk"
   ]
  },
  {
   "cell_type": "code",
   "execution_count": 93,
   "metadata": {},
   "outputs": [],
   "source": [
    "#Get the data from local repository\n",
    "\n",
    "path = \"/Users/aditya/Documents/My-files/Umkc/Spring/spring23/PDS/Assignment2/diabetes.csv\"\n",
    "df_raw = pd.read_csv(path)\n"
   ]
  },
  {
   "cell_type": "code",
   "execution_count": 94,
   "metadata": {},
   "outputs": [
    {
     "data": {
      "text/html": [
       "<div>\n",
       "<style scoped>\n",
       "    .dataframe tbody tr th:only-of-type {\n",
       "        vertical-align: middle;\n",
       "    }\n",
       "\n",
       "    .dataframe tbody tr th {\n",
       "        vertical-align: top;\n",
       "    }\n",
       "\n",
       "    .dataframe thead th {\n",
       "        text-align: right;\n",
       "    }\n",
       "</style>\n",
       "<table border=\"1\" class=\"dataframe\">\n",
       "  <thead>\n",
       "    <tr style=\"text-align: right;\">\n",
       "      <th></th>\n",
       "      <th>Pregnancies</th>\n",
       "      <th>Glucose</th>\n",
       "      <th>BloodPressure</th>\n",
       "      <th>SkinThickness</th>\n",
       "      <th>Insulin</th>\n",
       "      <th>BMI</th>\n",
       "      <th>DiabetesPedigreeFunction</th>\n",
       "      <th>Age</th>\n",
       "      <th>Outcome</th>\n",
       "    </tr>\n",
       "  </thead>\n",
       "  <tbody>\n",
       "    <tr>\n",
       "      <td>0</td>\n",
       "      <td>6</td>\n",
       "      <td>148</td>\n",
       "      <td>72</td>\n",
       "      <td>35</td>\n",
       "      <td>0</td>\n",
       "      <td>33.6</td>\n",
       "      <td>0.627</td>\n",
       "      <td>50</td>\n",
       "      <td>1</td>\n",
       "    </tr>\n",
       "    <tr>\n",
       "      <td>1</td>\n",
       "      <td>1</td>\n",
       "      <td>85</td>\n",
       "      <td>66</td>\n",
       "      <td>29</td>\n",
       "      <td>0</td>\n",
       "      <td>26.6</td>\n",
       "      <td>0.351</td>\n",
       "      <td>31</td>\n",
       "      <td>0</td>\n",
       "    </tr>\n",
       "    <tr>\n",
       "      <td>2</td>\n",
       "      <td>8</td>\n",
       "      <td>183</td>\n",
       "      <td>64</td>\n",
       "      <td>0</td>\n",
       "      <td>0</td>\n",
       "      <td>23.3</td>\n",
       "      <td>0.672</td>\n",
       "      <td>32</td>\n",
       "      <td>1</td>\n",
       "    </tr>\n",
       "    <tr>\n",
       "      <td>3</td>\n",
       "      <td>1</td>\n",
       "      <td>89</td>\n",
       "      <td>66</td>\n",
       "      <td>23</td>\n",
       "      <td>94</td>\n",
       "      <td>28.1</td>\n",
       "      <td>0.167</td>\n",
       "      <td>21</td>\n",
       "      <td>0</td>\n",
       "    </tr>\n",
       "    <tr>\n",
       "      <td>4</td>\n",
       "      <td>0</td>\n",
       "      <td>137</td>\n",
       "      <td>40</td>\n",
       "      <td>35</td>\n",
       "      <td>168</td>\n",
       "      <td>43.1</td>\n",
       "      <td>2.288</td>\n",
       "      <td>33</td>\n",
       "      <td>1</td>\n",
       "    </tr>\n",
       "  </tbody>\n",
       "</table>\n",
       "</div>"
      ],
      "text/plain": [
       "   Pregnancies  Glucose  BloodPressure  SkinThickness  Insulin   BMI  \\\n",
       "0            6      148             72             35        0  33.6   \n",
       "1            1       85             66             29        0  26.6   \n",
       "2            8      183             64              0        0  23.3   \n",
       "3            1       89             66             23       94  28.1   \n",
       "4            0      137             40             35      168  43.1   \n",
       "\n",
       "   DiabetesPedigreeFunction  Age  Outcome  \n",
       "0                     0.627   50        1  \n",
       "1                     0.351   31        0  \n",
       "2                     0.672   32        1  \n",
       "3                     0.167   21        0  \n",
       "4                     2.288   33        1  "
      ]
     },
     "execution_count": 94,
     "metadata": {},
     "output_type": "execute_result"
    }
   ],
   "source": [
    "#show first 5 rows of dataset\n",
    "df_raw.head()"
   ]
  },
  {
   "cell_type": "code",
   "execution_count": 95,
   "metadata": {},
   "outputs": [
    {
     "name": "stdout",
     "output_type": "stream",
     "text": [
      "Number of Rows: 768\n",
      "Number of Columns: 9\n"
     ]
    }
   ],
   "source": [
    "print(\"Number of Rows: {}\\nNumber of Columns: {}\".format(df_raw.shape[0], df_raw.shape[1]))"
   ]
  },
  {
   "cell_type": "code",
   "execution_count": 176,
   "metadata": {},
   "outputs": [
    {
     "data": {
      "text/plain": [
       "Pregnancies                 0\n",
       "Glucose                     0\n",
       "BloodPressure               0\n",
       "SkinThickness               0\n",
       "Insulin                     0\n",
       "BMI                         0\n",
       "DiabetesPedigreeFunction    0\n",
       "Age                         0\n",
       "Outcome                     0\n",
       "dtype: int64"
      ]
     },
     "execution_count": 176,
     "metadata": {},
     "output_type": "execute_result"
    }
   ],
   "source": [
    "#let us check if we have any null values in the data\n",
    "df_raw.isnull().sum()\n",
    "\n",
    "\n"
   ]
  },
  {
   "cell_type": "code",
   "execution_count": 177,
   "metadata": {},
   "outputs": [],
   "source": [
    "#The data looks clean, so we can use the same raw data for our future analysis \n",
    "df_raw.to_csv('/Users/aditya/Documents/My-files/Umkc/Spring/spring23/PDS/Project/Diabetes/CleanData/clean_data.csv')\n"
   ]
  },
  {
   "cell_type": "code",
   "execution_count": 97,
   "metadata": {
    "scrolled": true
   },
   "outputs": [],
   "source": [
    "##Let us now create a sample from the polulation\n",
    "#we make use of random state to reproduce the result\n",
    "#seed = random.seed(10)\n",
    "\n",
    "df_getsample_frompopulation= df_raw.sample(n= 25, random_state= 42)\n"
   ]
  },
  {
   "cell_type": "code",
   "execution_count": 98,
   "metadata": {},
   "outputs": [
    {
     "data": {
      "text/html": [
       "<div>\n",
       "<style scoped>\n",
       "    .dataframe tbody tr th:only-of-type {\n",
       "        vertical-align: middle;\n",
       "    }\n",
       "\n",
       "    .dataframe tbody tr th {\n",
       "        vertical-align: top;\n",
       "    }\n",
       "\n",
       "    .dataframe thead th {\n",
       "        text-align: right;\n",
       "    }\n",
       "</style>\n",
       "<table border=\"1\" class=\"dataframe\">\n",
       "  <thead>\n",
       "    <tr style=\"text-align: right;\">\n",
       "      <th></th>\n",
       "      <th>Pregnancies</th>\n",
       "      <th>Glucose</th>\n",
       "      <th>BloodPressure</th>\n",
       "      <th>SkinThickness</th>\n",
       "      <th>Insulin</th>\n",
       "      <th>BMI</th>\n",
       "      <th>DiabetesPedigreeFunction</th>\n",
       "      <th>Age</th>\n",
       "      <th>Outcome</th>\n",
       "    </tr>\n",
       "  </thead>\n",
       "  <tbody>\n",
       "    <tr>\n",
       "      <td>668</td>\n",
       "      <td>6</td>\n",
       "      <td>98</td>\n",
       "      <td>58</td>\n",
       "      <td>33</td>\n",
       "      <td>190</td>\n",
       "      <td>34.0</td>\n",
       "      <td>0.430</td>\n",
       "      <td>43</td>\n",
       "      <td>0</td>\n",
       "    </tr>\n",
       "    <tr>\n",
       "      <td>324</td>\n",
       "      <td>2</td>\n",
       "      <td>112</td>\n",
       "      <td>75</td>\n",
       "      <td>32</td>\n",
       "      <td>0</td>\n",
       "      <td>35.7</td>\n",
       "      <td>0.148</td>\n",
       "      <td>21</td>\n",
       "      <td>0</td>\n",
       "    </tr>\n",
       "    <tr>\n",
       "      <td>624</td>\n",
       "      <td>2</td>\n",
       "      <td>108</td>\n",
       "      <td>64</td>\n",
       "      <td>0</td>\n",
       "      <td>0</td>\n",
       "      <td>30.8</td>\n",
       "      <td>0.158</td>\n",
       "      <td>21</td>\n",
       "      <td>0</td>\n",
       "    </tr>\n",
       "    <tr>\n",
       "      <td>690</td>\n",
       "      <td>8</td>\n",
       "      <td>107</td>\n",
       "      <td>80</td>\n",
       "      <td>0</td>\n",
       "      <td>0</td>\n",
       "      <td>24.6</td>\n",
       "      <td>0.856</td>\n",
       "      <td>34</td>\n",
       "      <td>0</td>\n",
       "    </tr>\n",
       "    <tr>\n",
       "      <td>473</td>\n",
       "      <td>7</td>\n",
       "      <td>136</td>\n",
       "      <td>90</td>\n",
       "      <td>0</td>\n",
       "      <td>0</td>\n",
       "      <td>29.9</td>\n",
       "      <td>0.210</td>\n",
       "      <td>50</td>\n",
       "      <td>0</td>\n",
       "    </tr>\n",
       "  </tbody>\n",
       "</table>\n",
       "</div>"
      ],
      "text/plain": [
       "     Pregnancies  Glucose  BloodPressure  SkinThickness  Insulin   BMI  \\\n",
       "668            6       98             58             33      190  34.0   \n",
       "324            2      112             75             32        0  35.7   \n",
       "624            2      108             64              0        0  30.8   \n",
       "690            8      107             80              0        0  24.6   \n",
       "473            7      136             90              0        0  29.9   \n",
       "\n",
       "     DiabetesPedigreeFunction  Age  Outcome  \n",
       "668                     0.430   43        0  \n",
       "324                     0.148   21        0  \n",
       "624                     0.158   21        0  \n",
       "690                     0.856   34        0  \n",
       "473                     0.210   50        0  "
      ]
     },
     "execution_count": 98,
     "metadata": {},
     "output_type": "execute_result"
    }
   ],
   "source": [
    "#fetch the first five rows of sample\n",
    "df_getsample_frompopulation.head()"
   ]
  },
  {
   "cell_type": "code",
   "execution_count": 143,
   "metadata": {},
   "outputs": [
    {
     "name": "stdout",
     "output_type": "stream",
     "text": [
      "Number of Rows: 25\n",
      "Number of Columns: 9\n"
     ]
    }
   ],
   "source": [
    "# number of rows are 25 in the smaple\n",
    "print(\"Number of Rows: {}\\nNumber of Columns: {}\".format(df_getsample_frompopulation.shape[0], df_raw.shape[1]))"
   ]
  },
  {
   "cell_type": "code",
   "execution_count": 99,
   "metadata": {},
   "outputs": [
    {
     "name": "stdout",
     "output_type": "stream",
     "text": [
      "116.64\n"
     ]
    }
   ],
   "source": [
    "#find the mean Glucose of the sample on importing statistics package\n",
    "mean_glucose_sample = st.mean(df_getsample_frompopulation.loc[:,\"Glucose\"])\n",
    "print(mean_glucose_sample)"
   ]
  },
  {
   "cell_type": "code",
   "execution_count": 101,
   "metadata": {},
   "outputs": [
    {
     "name": "stdout",
     "output_type": "stream",
     "text": [
      "183\n"
     ]
    }
   ],
   "source": [
    "#find the max Glucose of the sample\n",
    "max_glucose_sample = max(df_getsample_frompopulation.loc[:,\"Glucose\"])\n",
    "print(max_glucose_sample)"
   ]
  },
  {
   "cell_type": "code",
   "execution_count": 102,
   "metadata": {},
   "outputs": [
    {
     "name": "stdout",
     "output_type": "stream",
     "text": [
      "120.89453125\n"
     ]
    }
   ],
   "source": [
    "#find the mean Glucose of the population\n",
    "mean_glucose_population = st.mean(df_raw.loc[:,\"Glucose\"])\n",
    "print(mean_glucose_population)"
   ]
  },
  {
   "cell_type": "code",
   "execution_count": 103,
   "metadata": {},
   "outputs": [
    {
     "name": "stdout",
     "output_type": "stream",
     "text": [
      "199\n"
     ]
    }
   ],
   "source": [
    "#find the max Glucose of the population\n",
    "max_glucose_population = max(df_raw.loc[:,\"Glucose\"])\n",
    "print(max_glucose_population)"
   ]
  },
  {
   "cell_type": "code",
   "execution_count": 153,
   "metadata": {},
   "outputs": [
    {
     "name": "stdout",
     "output_type": "stream",
     "text": [
      "{'mean_sample': 116.64, 'mean_population': 120.89453125}\n"
     ]
    }
   ],
   "source": [
    "# let us create a dictonary which stores the mean values of sample and population \n",
    "# which helps in plotting the graphs\n",
    "\n",
    "class mean_dictionary(dict):\n",
    "    \n",
    "    def __init__(self):\n",
    "        self = dict()\n",
    "    \n",
    "    def add(self, key, value):\n",
    "        self[key] = value\n",
    " \n",
    " \n",
    "# Main Function\n",
    "dict_mean = mean_dictionary()\n",
    " \n",
    "dict_mean.add('mean_sample', mean_glucose_sample)\n",
    "dict_mean.add('mean_population', mean_glucose_population)\n",
    " \n",
    "print(dict_mean)\n",
    "\n",
    "\n",
    "## Saving the results into results folder\n",
    "\n",
    "result_save = open(\"/Users/aditya/Documents/My-files/Umkc/Spring/spring23/PDS/Project/Diabetes/Results/A/dict_mean.txt\",\"w\")\n",
    "\n",
    "# write file\n",
    "result_save.write(str(dict_mean))\n",
    "\n",
    "# close file\n",
    "result_save.close()\n"
   ]
  },
  {
   "cell_type": "code",
   "execution_count": 154,
   "metadata": {},
   "outputs": [
    {
     "name": "stdout",
     "output_type": "stream",
     "text": [
      "{'max_sample': 183, 'max_population': 199}\n"
     ]
    }
   ],
   "source": [
    "# let us create a dictonary which stores the max values of sample and population \n",
    "# which helps in plotting the graphs\n",
    "\n",
    "\n",
    "class max_dictionary(dict):\n",
    "    \n",
    "    def __init__(self):\n",
    "        self = dict()\n",
    "    \n",
    "    def add(self, key, value):\n",
    "        self[key] = value\n",
    " \n",
    " \n",
    "# Main Function\n",
    "dict_max = max_dictionary()\n",
    " \n",
    "dict_max.add('max_sample', max_glucose_sample)\n",
    "dict_max.add('max_population', max_glucose_population)\n",
    " \n",
    "print(dict_max)\n",
    "\n",
    "\n",
    "## Saving the results into results folder\n",
    "\n",
    "result_save = open(\"/Users/aditya/Documents/My-files/Umkc/Spring/spring23/PDS/Project/Diabetes/Results/A/dict_max.txt\",\"w\")\n",
    "\n",
    "# write file\n",
    "result_save.write(str(dict_max))\n",
    "\n",
    "# close file\n",
    "result_save.close()\n",
    "\n",
    "\n"
   ]
  },
  {
   "cell_type": "code",
   "execution_count": 159,
   "metadata": {},
   "outputs": [
    {
     "data": {
      "image/png": "[encoded data removed]",
      "text/plain": [
       "<Figure size 288x360 with 1 Axes>"
      ]
     },
     "metadata": {
      "needs_background": "light"
     },
     "output_type": "display_data"
    }
   ],
   "source": [
    "#creating the bar graph for sample vs population mean \n",
    "# the graph clearly shows that mean_population is slightly higher on copmaring with mean_sample\n",
    "\n",
    "mean_values = list(dict_mean.keys())\n",
    "values = list(dict_mean.values())\n",
    "  \n",
    "fig = plt.figure(figsize = (4, 5))\n",
    " \n",
    "# creating the bar plot\n",
    "plt.bar(mean_values, values, color ='blue',\n",
    "        width = 0.4)\n",
    " \n",
    "plt.xlabel(\"sample vs population mean\")\n",
    "plt.ylabel(\"mean values\")\n",
    "plt.title(\"mean measurement\")\n",
    "\n",
    "\n",
    "plt.savefig(\"/Users/aditya/Documents/My-files/Umkc/Spring/spring23/PDS/Project/Diabetes/Results/A/mean_barimage.jpeg\")\n",
    "\n",
    "plt.show()\n"
   ]
  },
  {
   "cell_type": "code",
   "execution_count": 158,
   "metadata": {},
   "outputs": [
    {
     "data": {
      "image/png": "[encoded data removed]",
      "text/plain": [
       "<Figure size 432x288 with 1 Axes>"
      ]
     },
     "metadata": {},
     "output_type": "display_data"
    }
   ],
   "source": [
    "#creating the pie graph for sample vs population mean \n",
    "# the graph clearly shows that mean_population is slightly higher on comparing with mean_sample\n",
    "\n",
    "\n",
    "plt.pie(values, labels = mean_values, autopct='%1.1f%%', shadow=True, startangle=90)\n",
    "plt.savefig(\"/Users/aditya/Documents/My-files/Umkc/Spring/spring23/PDS/Project/Diabetes/Results/A/mean_pieimage.jpeg\")\n",
    "\n"
   ]
  },
  {
   "cell_type": "code",
   "execution_count": 160,
   "metadata": {},
   "outputs": [
    {
     "data": {
      "image/png": "[encoded data removed]",
      "text/plain": [
       "<Figure size 288x360 with 1 Axes>"
      ]
     },
     "metadata": {
      "needs_background": "light"
     },
     "output_type": "display_data"
    }
   ],
   "source": [
    "#creating the bar graph for sample vs population max \n",
    "#the graph clearly shows that max_population is higher on comparing with max_sample\n",
    "\n",
    "\n",
    "max_values = list(dict_max.keys())\n",
    "values = list(dict_max.values())\n",
    "  \n",
    "fig = plt.figure(figsize = (4, 5))\n",
    " \n",
    "# creating the bar plot\n",
    "plt.bar(max_values, values, color ='red',\n",
    "        width = 0.4)\n",
    " \n",
    "plt.xlabel(\"sample vs population\")\n",
    "plt.ylabel(\"highest values\")\n",
    "plt.title(\"highest value measurement\")\n",
    "\n",
    "plt.savefig(\"/Users/aditya/Documents/My-files/Umkc/Spring/spring23/PDS/Project/Diabetes/Results/A/max_barimage.jpeg\")\n",
    "\n",
    "\n",
    "\n",
    "plt.show()"
   ]
  },
  {
   "cell_type": "code",
   "execution_count": 161,
   "metadata": {},
   "outputs": [
    {
     "data": {
      "image/png": "[encoded data removed]",
      "text/plain": [
       "<Figure size 432x288 with 1 Axes>"
      ]
     },
     "metadata": {},
     "output_type": "display_data"
    }
   ],
   "source": [
    "#creating the pie graph for sample vs population max \n",
    "#the graph clearly shows that max_population is higher on comparing with max_sample\n",
    "\n",
    "\n",
    "plt.pie(values, labels = max_values , autopct='%1.1f%%', shadow=True, startangle=90)\n",
    "plt.savefig(\"/Users/aditya/Documents/My-files/Umkc/Spring/spring23/PDS/Project/Diabetes/Results/A/max_pieimage.jpeg\")\n",
    "\n"
   ]
  },
  {
   "cell_type": "code",
   "execution_count": 108,
   "metadata": {},
   "outputs": [
    {
     "name": "stdout",
     "output_type": "stream",
     "text": [
      "40.248\n"
     ]
    }
   ],
   "source": [
    "#let us now find the 98th percentile of sample data\n",
    "\n",
    "sample_percentile = np.percentile(df_getsample_frompopulation.loc[:,\"BMI\"], 98)\n",
    "print(sample_percentile)"
   ]
  },
  {
   "cell_type": "code",
   "execution_count": 109,
   "metadata": {},
   "outputs": [
    {
     "name": "stdout",
     "output_type": "stream",
     "text": [
      "47.52599999999996\n"
     ]
    }
   ],
   "source": [
    "#find the 98th percentile of population data\n",
    "\n",
    "population_percentile = np.percentile(df_raw.loc[:,\"BMI\"], 98)\n",
    "print(population_percentile)"
   ]
  },
  {
   "cell_type": "code",
   "execution_count": 162,
   "metadata": {},
   "outputs": [
    {
     "name": "stdout",
     "output_type": "stream",
     "text": [
      "{'sample_percentile': 40.248, 'population_percentile': 47.52599999999996}\n"
     ]
    }
   ],
   "source": [
    "# let us create a dictonary which stores the percentile values of sample and population \n",
    "# which helps in plotting the graphs\n",
    "\n",
    "\n",
    "class percentile_dictionary(dict):\n",
    "    \n",
    "    def __init__(self):\n",
    "        self = dict()\n",
    "    \n",
    "    def add(self, key, value):\n",
    "        self[key] = value\n",
    " \n",
    " \n",
    "# Main Function\n",
    "dict_percentile = percentile_dictionary()\n",
    " \n",
    "dict_percentile.add('sample_percentile', sample_percentile)\n",
    "dict_percentile.add('population_percentile', population_percentile)\n",
    " \n",
    "print(dict_percentile)\n",
    "\n",
    "\n",
    "## Saving the results into results folder\n",
    "\n",
    "result_save = open(\"/Users/aditya/Documents/My-files/Umkc/Spring/spring23/PDS/Project/Diabetes/Results/B/dict_percentile.txt\",\"w\")\n",
    "\n",
    "# write file\n",
    "result_save.write(str(dict_percentile))\n",
    "\n",
    "# close file\n",
    "result_save.close()\n"
   ]
  },
  {
   "cell_type": "code",
   "execution_count": 163,
   "metadata": {},
   "outputs": [
    {
     "data": {
      "image/png": "[encoded data removed]",
      "text/plain": [
       "<Figure size 288x360 with 1 Axes>"
      ]
     },
     "metadata": {
      "needs_background": "light"
     },
     "output_type": "display_data"
    }
   ],
   "source": [
    "#creating the bar graph for sample vs population percentile \n",
    "#the graph clearly shows that population_percentile is higher on comparing with sample_percentile\n",
    "\n",
    "\n",
    "percentile_values = list(dict_percentile.keys())\n",
    "values = list(dict_percentile.values())\n",
    "  \n",
    "fig = plt.figure(figsize = (4, 5))\n",
    " \n",
    "# creating the bar plot\n",
    "plt.bar(percentile_values, values, color ='green',\n",
    "        width = 0.4)\n",
    " \n",
    "plt.xlabel(\"sample vs population\")\n",
    "plt.ylabel(\"percentile values\")\n",
    "plt.title(\"percentile value measurement\")\n",
    "\n",
    "plt.savefig(\"/Users/aditya/Documents/My-files/Umkc/Spring/spring23/PDS/Project/Diabetes/Results/B/percentile_barimage.jpeg\")\n",
    "\n",
    "\n",
    "plt.show()"
   ]
  },
  {
   "cell_type": "code",
   "execution_count": 164,
   "metadata": {},
   "outputs": [
    {
     "data": {
      "image/png": "[encoded data removed]",
      "text/plain": [
       "<Figure size 432x288 with 1 Axes>"
      ]
     },
     "metadata": {},
     "output_type": "display_data"
    }
   ],
   "source": [
    "#creating the pie graph for sample vs population percentile \n",
    "#the graph clearly shows that population_percentile is higher on comparing with sample_percentile\n",
    "\n",
    "\n",
    "plt.pie(values, labels = percentile_values , autopct='%1.1f%%', shadow=True, startangle=90)\n",
    "plt.savefig(\"/Users/aditya/Documents/My-files/Umkc/Spring/spring23/PDS/Project/Diabetes/Results/B/percentile_pieimage.jpeg\")\n",
    "\n"
   ]
  },
  {
   "cell_type": "code",
   "execution_count": 112,
   "metadata": {},
   "outputs": [
    {
     "name": "stdout",
     "output_type": "stream",
     "text": [
      "     Pregnancies  Glucose  BloodPressure  SkinThickness  Insulin   BMI  \\\n",
      "228            4      197             70             39      744  36.7   \n",
      "442            4      117             64             27      120  33.2   \n",
      "507            1      130             60             23      170  28.6   \n",
      "25            10      125             70             26      115  31.1   \n",
      "496            5      110             68              0        0  26.0   \n",
      "..           ...      ...            ...            ...      ...   ...   \n",
      "732            2      174             88             37      120  44.5   \n",
      "514            3       99             54             19       86  25.6   \n",
      "750            4      136             70              0        0  31.2   \n",
      "364            4      147             74             25      293  34.9   \n",
      "485            0      135             68             42      250  42.3   \n",
      "\n",
      "     DiabetesPedigreeFunction  Age  Outcome  \n",
      "228                     2.329   31        0  \n",
      "442                     0.230   24        0  \n",
      "507                     0.692   21        0  \n",
      "25                      0.205   41        1  \n",
      "496                     0.292   30        0  \n",
      "..                        ...  ...      ...  \n",
      "732                     0.646   24        1  \n",
      "514                     0.154   24        0  \n",
      "750                     1.182   22        1  \n",
      "364                     0.385   30        0  \n",
      "485                     0.365   24        1  \n",
      "\n",
      "[500 rows x 9 columns]\n"
     ]
    }
   ],
   "source": [
    "#Using bootstrap (replace= True), created 500 samples (of 150 observation each) from the population(raw_data) \n",
    "\n",
    "boot = sk.utils.resample(df_raw, replace=True, n_samples=500, random_state=150)\n",
    "\n",
    "print(boot)"
   ]
  },
  {
   "cell_type": "code",
   "execution_count": 113,
   "metadata": {},
   "outputs": [
    {
     "name": "stdout",
     "output_type": "stream",
     "text": [
      "31.8188\n"
     ]
    }
   ],
   "source": [
    "#find the mean BMI of the bootstrapsample\n",
    "\n",
    "mean_bootBMI = mean(boot.loc[:,\"BMI\"])\n",
    "print(mean_bootBMI)"
   ]
  },
  {
   "cell_type": "code",
   "execution_count": 114,
   "metadata": {},
   "outputs": [
    {
     "name": "stdout",
     "output_type": "stream",
     "text": [
      "8.058660594736716\n"
     ]
    }
   ],
   "source": [
    "#find the std BMI of the bootstrapsample\n",
    "\n",
    "std_bootBMI = st.stdev(boot.loc[:,\"BMI\"])\n",
    "print(std_bootBMI)"
   ]
  },
  {
   "cell_type": "code",
   "execution_count": 115,
   "metadata": {},
   "outputs": [
    {
     "name": "stdout",
     "output_type": "stream",
     "text": [
      "46.50599999999999\n"
     ]
    }
   ],
   "source": [
    "#find the percentile BMI of the bootstrapsample\n",
    "\n",
    "percentile_bootBMI = np.percentile(boot.loc[:,\"BMI\"], 98)\n",
    "print(percentile_bootBMI)"
   ]
  },
  {
   "cell_type": "code",
   "execution_count": 116,
   "metadata": {},
   "outputs": [
    {
     "name": "stdout",
     "output_type": "stream",
     "text": [
      "31.992578125\n"
     ]
    }
   ],
   "source": [
    "#find the mean BMI of the population\n",
    "\n",
    "mean_rawBMI = mean(df_raw.loc[:,\"BMI\"])\n",
    "print(mean_rawBMI)"
   ]
  },
  {
   "cell_type": "code",
   "execution_count": 117,
   "metadata": {},
   "outputs": [
    {
     "name": "stdout",
     "output_type": "stream",
     "text": [
      "7.884160320375446\n"
     ]
    }
   ],
   "source": [
    "#find the std BMI of the population\n",
    "\n",
    "std_rawBMI = st.stdev(df_raw.loc[:,\"BMI\"])\n",
    "print(std_rawBMI)"
   ]
  },
  {
   "cell_type": "code",
   "execution_count": 119,
   "metadata": {},
   "outputs": [
    {
     "name": "stdout",
     "output_type": "stream",
     "text": [
      "47.52599999999996\n"
     ]
    }
   ],
   "source": [
    "#find the percentile BMI of the population\n",
    "\n",
    "percentile_rawBMI = np.percentile(df_raw.loc[:,\"BMI\"], 98)\n",
    "print(percentile_rawBMI)"
   ]
  },
  {
   "cell_type": "code",
   "execution_count": 165,
   "metadata": {},
   "outputs": [
    {
     "name": "stdout",
     "output_type": "stream",
     "text": [
      "{'mean_Bootsample': 31.8188, 'mean_population': 31.992578125}\n"
     ]
    }
   ],
   "source": [
    "# let us create a dictonary which stores the mean values of sample and population \n",
    "# which helps in plotting the graphs\n",
    "\n",
    "\n",
    "\n",
    "class Bootmean_dictionary(dict):\n",
    "    \n",
    "    def __init__(self):\n",
    "        self = dict()\n",
    "    \n",
    "    def add(self, key, value):\n",
    "        self[key] = value\n",
    " \n",
    " \n",
    "# Main Function\n",
    "dict_Bootmean = Bootmean_dictionary()\n",
    " \n",
    "dict_Bootmean.add('mean_Bootsample', mean_bootBMI)\n",
    "dict_Bootmean.add('mean_population', mean_rawBMI)\n",
    " \n",
    "print(dict_Bootmean)\n",
    "\n",
    "## Saving the results into results folder\n",
    "\n",
    "result_save = open(\"/Users/aditya/Documents/My-files/Umkc/Spring/spring23/PDS/Project/Diabetes/Results/C/dict_Bootmean.txt\",\"w\")\n",
    "\n",
    "# write file\n",
    "result_save.write(str(dict_Bootmean))\n",
    "\n",
    "# close file\n",
    "result_save.close()\n",
    "\n"
   ]
  },
  {
   "cell_type": "code",
   "execution_count": 166,
   "metadata": {},
   "outputs": [
    {
     "data": {
      "image/png": "[encoded data removed]",
      "text/plain": [
       "<Figure size 288x360 with 1 Axes>"
      ]
     },
     "metadata": {
      "needs_background": "light"
     },
     "output_type": "display_data"
    }
   ],
   "source": [
    "#creating the bar graph for sample vs population mean\n",
    "#the graph clearly shows that population is higher on comparing with sample\n",
    "\n",
    "\n",
    "Bootmean_values = list(dict_Bootmean.keys())\n",
    "values = list(dict_Bootmean.values())\n",
    "  \n",
    "fig = plt.figure(figsize = (4, 5))\n",
    " \n",
    "# creating the bar plot\n",
    "plt.bar(Bootmean_values, values, color ='orange',\n",
    "        width = 0.4)\n",
    " \n",
    "plt.xlabel(\"Bootstrapsample vs population\")\n",
    "plt.ylabel(\"mean values\")\n",
    "plt.title(\"mean value measurement\")\n",
    "\n",
    "plt.savefig(\"/Users/aditya/Documents/My-files/Umkc/Spring/spring23/PDS/Project/Diabetes/Results/C/bootmean_barimage.jpeg\")\n",
    "\n",
    "\n",
    "plt.show()"
   ]
  },
  {
   "cell_type": "code",
   "execution_count": 167,
   "metadata": {},
   "outputs": [
    {
     "data": {
      "image/png": "[encoded data removed]",
      "text/plain": [
       "<Figure size 432x288 with 1 Axes>"
      ]
     },
     "metadata": {},
     "output_type": "display_data"
    }
   ],
   "source": [
    "#creating the pie graph for sample vs population mean\n",
    "#the graph clearly shows that population is higher on comparing with sample\n",
    "\n",
    "plt.pie(values, labels = Bootmean_values, autopct='%1.1f%%', shadow=True, startangle=90)\n",
    "plt.savefig(\"/Users/aditya/Documents/My-files/Umkc/Spring/spring23/PDS/Project/Diabetes/Results/C/bootmean_pieimage.jpeg\")\n"
   ]
  },
  {
   "cell_type": "code",
   "execution_count": 168,
   "metadata": {},
   "outputs": [
    {
     "name": "stdout",
     "output_type": "stream",
     "text": [
      "{'std_Bootsample': 8.058660594736716, 'std_population': 7.884160320375446}\n"
     ]
    }
   ],
   "source": [
    "# let us create a dictonary which stores the std values of sample and population \n",
    "# which helps in plotting the graphs\n",
    "\n",
    "\n",
    "\n",
    "\n",
    "class Bootstd_dictionary(dict):\n",
    "    \n",
    "    def __init__(self):\n",
    "        self = dict()\n",
    "    \n",
    "    def add(self, key, value):\n",
    "        self[key] = value\n",
    " \n",
    " \n",
    "# Main Function\n",
    "dict_Bootstd = Bootstd_dictionary()\n",
    " \n",
    "dict_Bootstd.add('std_Bootsample', std_bootBMI)\n",
    "dict_Bootstd.add('std_population', std_rawBMI)\n",
    " \n",
    "print(dict_Bootstd)\n",
    "\n",
    "## Saving the results into results folder\n",
    "\n",
    "result_save = open(\"/Users/aditya/Documents/My-files/Umkc/Spring/spring23/PDS/Project/Diabetes/Results/C/dict_Bootstd.txt\",\"w\")\n",
    "\n",
    "# write file\n",
    "result_save.write(str(dict_Bootstd))\n",
    "\n",
    "# close file\n",
    "result_save.close()\n"
   ]
  },
  {
   "cell_type": "code",
   "execution_count": 170,
   "metadata": {},
   "outputs": [
    {
     "data": {
      "image/png": "[encoded data removed]",
      "text/plain": [
       "<Figure size 288x360 with 1 Axes>"
      ]
     },
     "metadata": {
      "needs_background": "light"
     },
     "output_type": "display_data"
    }
   ],
   "source": [
    "#creating the bar graph for sample vs population std\n",
    "#the graph clearly shows that population is slightly higher on comparing with sample\n",
    "\n",
    "Bootstd_values = list(dict_Bootstd.keys())\n",
    "values = list(dict_Bootstd.values())\n",
    "  \n",
    "fig = plt.figure(figsize = (4, 5))\n",
    " \n",
    "# creating the bar plot\n",
    "plt.bar(Bootstd_values, values, color ='silver',\n",
    "        width = 0.4)\n",
    " \n",
    "plt.xlabel(\"Bootstrap sample vs population\")\n",
    "plt.ylabel(\"SD values\")\n",
    "plt.title(\"SD value measurement\")\n",
    "\n",
    "plt.savefig(\"/Users/aditya/Documents/My-files/Umkc/Spring/spring23/PDS/Project/Diabetes/Results/C/bootstd_barimage.jpeg\")\n",
    "\n",
    "\n",
    "plt.show()"
   ]
  },
  {
   "cell_type": "code",
   "execution_count": 171,
   "metadata": {},
   "outputs": [
    {
     "data": {
      "image/png": "[encoded data removed]",
      "text/plain": [
       "<Figure size 432x288 with 1 Axes>"
      ]
     },
     "metadata": {},
     "output_type": "display_data"
    }
   ],
   "source": [
    "#creating the pie graph for sample vs population std\n",
    "#the graph clearly shows that population is slightly higher on comparing with sample\n",
    "\n",
    "plt.pie(values, labels = Bootstd_values , autopct='%1.1f%%', shadow=True, startangle=90)\n",
    "plt.savefig(\"/Users/aditya/Documents/My-files/Umkc/Spring/spring23/PDS/Project/Diabetes/Results/C/bootstd_pieimage.jpeg\")\n"
   ]
  },
  {
   "cell_type": "code",
   "execution_count": 172,
   "metadata": {},
   "outputs": [
    {
     "name": "stdout",
     "output_type": "stream",
     "text": [
      "{'percentile_Bootsample': 46.50599999999999, 'percentile_population': 47.52599999999996}\n"
     ]
    }
   ],
   "source": [
    "# let us create a dictonary which stores the percentile values of sample and population \n",
    "# which helps in plotting the graphs\n",
    "\n",
    "\n",
    "class Bootpercentile_dictionary(dict):\n",
    "    \n",
    "    def __init__(self):\n",
    "        self = dict()\n",
    "    \n",
    "    def add(self, key, value):\n",
    "        self[key] = value\n",
    " \n",
    " \n",
    "# Main Function\n",
    "dict_Bootpercentile = Bootpercentile_dictionary()\n",
    " \n",
    "dict_Bootpercentile.add('percentile_Bootsample', percentile_bootBMI)\n",
    "dict_Bootpercentile.add('percentile_population', percentile_rawBMI)\n",
    " \n",
    "print(dict_Bootpercentile)\n",
    "\n",
    "## Saving the results into results folder\n",
    "\n",
    "result_save = open(\"/Users/aditya/Documents/My-files/Umkc/Spring/spring23/PDS/Project/Diabetes/Results/C/dict_Bootpercentile.txt\",\"w\")\n",
    "\n",
    "# write file\n",
    "result_save.write(str(dict_Bootstd))\n",
    "\n",
    "# close file\n",
    "result_save.close()\n",
    "\n",
    "\n"
   ]
  },
  {
   "cell_type": "code",
   "execution_count": 173,
   "metadata": {},
   "outputs": [
    {
     "data": {
      "image/png": "[encoded data removed]",
      "text/plain": [
       "<Figure size 288x360 with 1 Axes>"
      ]
     },
     "metadata": {
      "needs_background": "light"
     },
     "output_type": "display_data"
    }
   ],
   "source": [
    "#creating the bar graph for sample vs population percentile\n",
    "#the graph clearly shows that population is slightly higher on comparing with sample\n",
    "\n",
    "Bootpercentile_values = list(dict_Bootpercentile.keys())\n",
    "values = list(dict_Bootpercentile.values())\n",
    "  \n",
    "fig = plt.figure(figsize = (4, 5))\n",
    " \n",
    "# creating the bar plot\n",
    "plt.bar(Bootpercentile_values, values, color ='purple',\n",
    "        width = 0.4)\n",
    " \n",
    "plt.xlabel(\"Bootstrap sample vs population\")\n",
    "plt.ylabel(\"Percentile values\")\n",
    "plt.title(\"percentile value measurement\")\n",
    "\n",
    "plt.savefig(\"/Users/aditya/Documents/My-files/Umkc/Spring/spring23/PDS/Project/Diabetes/Results/C/bootpercentile_barimage.jpeg\")\n",
    "\n",
    "\n",
    "plt.show()"
   ]
  },
  {
   "cell_type": "code",
   "execution_count": 174,
   "metadata": {},
   "outputs": [
    {
     "data": {
      "image/png": "[encoded data removed]",
      "text/plain": [
       "<Figure size 432x288 with 1 Axes>"
      ]
     },
     "metadata": {},
     "output_type": "display_data"
    }
   ],
   "source": [
    "#creating the bar graph for sample vs population percentile\n",
    "#the graph clearly shows that population is slightly higher on comparing with sample\n",
    "\n",
    "plt.pie(values, labels = Bootpercentile_values, autopct='%1.1f%%', shadow=True, startangle=90)\n",
    "plt.savefig(\"/Users/aditya/Documents/My-files/Umkc/Spring/spring23/PDS/Project/Diabetes/Results/C/bootpercentile_barimage.jpeg\")\n"
   ]
  },
  {
   "cell_type": "code",
   "execution_count": null,
   "metadata": {},
   "outputs": [],
   "source": []
  }
 ],
 "metadata": {
  "kernelspec": {
   "display_name": "Python 3",
   "language": "python",
   "name": "python3"
  },
  "language_info": {
   "codemirror_mode": {
    "name": "ipython",
    "version": 3
   },
   "file_extension": ".py",
   "mimetype": "text/x-python",
   "name": "python",
   "nbconvert_exporter": "python",
   "pygments_lexer": "ipython3",
   "version": "3.7.4"
  }
 },
 "nbformat": 4,
 "nbformat_minor": 2
}
